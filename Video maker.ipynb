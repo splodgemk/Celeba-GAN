{
 "cells": [
  {
   "cell_type": "markdown",
   "id": "84983fef",
   "metadata": {},
   "source": [
    "This notebook just stitches the generated images together to make an .mp4 file"
   ]
  },
  {
   "cell_type": "code",
   "execution_count": 9,
   "id": "f9b21228",
   "metadata": {},
   "outputs": [
    {
     "name": "stdout",
     "output_type": "stream",
     "text": [
      "Starting conversion of images to video.\n",
      "Found 251 files to process.\n",
      "['samples_round_3\\\\generated=images-0000.png', 'samples_round_3\\\\generated=images-0001.png', 'samples_round_3\\\\generated=images-0002.png', 'samples_round_3\\\\generated=images-0003.png', 'samples_round_3\\\\generated=images-0004.png', 'samples_round_3\\\\generated=images-0005.png', 'samples_round_3\\\\generated=images-0006.png', 'samples_round_3\\\\generated=images-0007.png', 'samples_round_3\\\\generated=images-0008.png', 'samples_round_3\\\\generated=images-0009.png', 'samples_round_3\\\\generated=images-0010.png', 'samples_round_3\\\\generated=images-0011.png', 'samples_round_3\\\\generated=images-0012.png', 'samples_round_3\\\\generated=images-0013.png', 'samples_round_3\\\\generated=images-0014.png', 'samples_round_3\\\\generated=images-0015.png', 'samples_round_3\\\\generated=images-0016.png', 'samples_round_3\\\\generated=images-0017.png', 'samples_round_3\\\\generated=images-0018.png', 'samples_round_3\\\\generated=images-0019.png', 'samples_round_3\\\\generated=images-0020.png', 'samples_round_3\\\\generated=images-0021.png', 'samples_round_3\\\\generated=images-0022.png', 'samples_round_3\\\\generated=images-0023.png', 'samples_round_3\\\\generated=images-0024.png', 'samples_round_3\\\\generated=images-0025.png', 'samples_round_3\\\\generated=images-0026.png', 'samples_round_3\\\\generated=images-0027.png', 'samples_round_3\\\\generated=images-0028.png', 'samples_round_3\\\\generated=images-0029.png', 'samples_round_3\\\\generated=images-0030.png', 'samples_round_3\\\\generated=images-0031.png', 'samples_round_3\\\\generated=images-0032.png', 'samples_round_3\\\\generated=images-0033.png', 'samples_round_3\\\\generated=images-0034.png', 'samples_round_3\\\\generated=images-0035.png', 'samples_round_3\\\\generated=images-0036.png', 'samples_round_3\\\\generated=images-0037.png', 'samples_round_3\\\\generated=images-0038.png', 'samples_round_3\\\\generated=images-0039.png', 'samples_round_3\\\\generated=images-0040.png', 'samples_round_3\\\\generated=images-0041.png', 'samples_round_3\\\\generated=images-0042.png', 'samples_round_3\\\\generated=images-0043.png', 'samples_round_3\\\\generated=images-0044.png', 'samples_round_3\\\\generated=images-0045.png', 'samples_round_3\\\\generated=images-0046.png', 'samples_round_3\\\\generated=images-0047.png', 'samples_round_3\\\\generated=images-0048.png', 'samples_round_3\\\\generated=images-0049.png', 'samples_round_3\\\\generated=images-0050.png', 'samples_round_3\\\\generated=images-0051.png', 'samples_round_3\\\\generated=images-0052.png', 'samples_round_3\\\\generated=images-0053.png', 'samples_round_3\\\\generated=images-0054.png', 'samples_round_3\\\\generated=images-0055.png', 'samples_round_3\\\\generated=images-0056.png', 'samples_round_3\\\\generated=images-0057.png', 'samples_round_3\\\\generated=images-0058.png', 'samples_round_3\\\\generated=images-0059.png', 'samples_round_3\\\\generated=images-0060.png', 'samples_round_3\\\\generated=images-0061.png', 'samples_round_3\\\\generated=images-0062.png', 'samples_round_3\\\\generated=images-0063.png', 'samples_round_3\\\\generated=images-0064.png', 'samples_round_3\\\\generated=images-0065.png', 'samples_round_3\\\\generated=images-0066.png', 'samples_round_3\\\\generated=images-0067.png', 'samples_round_3\\\\generated=images-0068.png', 'samples_round_3\\\\generated=images-0069.png', 'samples_round_3\\\\generated=images-0070.png', 'samples_round_3\\\\generated=images-0071.png', 'samples_round_3\\\\generated=images-0072.png', 'samples_round_3\\\\generated=images-0073.png', 'samples_round_3\\\\generated=images-0074.png', 'samples_round_3\\\\generated=images-0075.png', 'samples_round_3\\\\generated=images-0076.png', 'samples_round_3\\\\generated=images-0077.png', 'samples_round_3\\\\generated=images-0078.png', 'samples_round_3\\\\generated=images-0079.png', 'samples_round_3\\\\generated=images-0080.png', 'samples_round_3\\\\generated=images-0081.png', 'samples_round_3\\\\generated=images-0082.png', 'samples_round_3\\\\generated=images-0083.png', 'samples_round_3\\\\generated=images-0084.png', 'samples_round_3\\\\generated=images-0085.png', 'samples_round_3\\\\generated=images-0086.png', 'samples_round_3\\\\generated=images-0087.png', 'samples_round_3\\\\generated=images-0088.png', 'samples_round_3\\\\generated=images-0089.png', 'samples_round_3\\\\generated=images-0090.png', 'samples_round_3\\\\generated=images-0091.png', 'samples_round_3\\\\generated=images-0092.png', 'samples_round_3\\\\generated=images-0093.png', 'samples_round_3\\\\generated=images-0094.png', 'samples_round_3\\\\generated=images-0095.png', 'samples_round_3\\\\generated=images-0096.png', 'samples_round_3\\\\generated=images-0097.png', 'samples_round_3\\\\generated=images-0098.png', 'samples_round_3\\\\generated=images-0099.png', 'samples_round_3\\\\generated=images-0100.png', 'samples_round_3\\\\generated=images-0101.png', 'samples_round_3\\\\generated=images-0102.png', 'samples_round_3\\\\generated=images-0103.png', 'samples_round_3\\\\generated=images-0104.png', 'samples_round_3\\\\generated=images-0105.png', 'samples_round_3\\\\generated=images-0106.png', 'samples_round_3\\\\generated=images-0107.png', 'samples_round_3\\\\generated=images-0108.png', 'samples_round_3\\\\generated=images-0109.png', 'samples_round_3\\\\generated=images-0110.png', 'samples_round_3\\\\generated=images-0111.png', 'samples_round_3\\\\generated=images-0112.png', 'samples_round_3\\\\generated=images-0113.png', 'samples_round_3\\\\generated=images-0114.png', 'samples_round_3\\\\generated=images-0115.png', 'samples_round_3\\\\generated=images-0116.png', 'samples_round_3\\\\generated=images-0117.png', 'samples_round_3\\\\generated=images-0118.png', 'samples_round_3\\\\generated=images-0119.png', 'samples_round_3\\\\generated=images-0120.png', 'samples_round_3\\\\generated=images-0121.png', 'samples_round_3\\\\generated=images-0122.png', 'samples_round_3\\\\generated=images-0123.png', 'samples_round_3\\\\generated=images-0124.png', 'samples_round_3\\\\generated=images-0125.png', 'samples_round_3\\\\generated=images-0126.png', 'samples_round_3\\\\generated=images-0127.png', 'samples_round_3\\\\generated=images-0128.png', 'samples_round_3\\\\generated=images-0129.png', 'samples_round_3\\\\generated=images-0130.png', 'samples_round_3\\\\generated=images-0131.png', 'samples_round_3\\\\generated=images-0132.png', 'samples_round_3\\\\generated=images-0133.png', 'samples_round_3\\\\generated=images-0134.png', 'samples_round_3\\\\generated=images-0135.png', 'samples_round_3\\\\generated=images-0136.png', 'samples_round_3\\\\generated=images-0137.png', 'samples_round_3\\\\generated=images-0138.png', 'samples_round_3\\\\generated=images-0139.png', 'samples_round_3\\\\generated=images-0140.png', 'samples_round_3\\\\generated=images-0141.png', 'samples_round_3\\\\generated=images-0142.png', 'samples_round_3\\\\generated=images-0143.png', 'samples_round_3\\\\generated=images-0144.png', 'samples_round_3\\\\generated=images-0145.png', 'samples_round_3\\\\generated=images-0146.png', 'samples_round_3\\\\generated=images-0147.png', 'samples_round_3\\\\generated=images-0148.png', 'samples_round_3\\\\generated=images-0149.png', 'samples_round_3\\\\generated=images-0150.png', 'samples_round_3\\\\generated=images-0151.png', 'samples_round_3\\\\generated=images-0152.png', 'samples_round_3\\\\generated=images-0153.png', 'samples_round_3\\\\generated=images-0154.png', 'samples_round_3\\\\generated=images-0155.png', 'samples_round_3\\\\generated=images-0156.png', 'samples_round_3\\\\generated=images-0157.png', 'samples_round_3\\\\generated=images-0158.png', 'samples_round_3\\\\generated=images-0159.png', 'samples_round_3\\\\generated=images-0160.png', 'samples_round_3\\\\generated=images-0161.png', 'samples_round_3\\\\generated=images-0162.png', 'samples_round_3\\\\generated=images-0163.png', 'samples_round_3\\\\generated=images-0164.png', 'samples_round_3\\\\generated=images-0165.png', 'samples_round_3\\\\generated=images-0166.png', 'samples_round_3\\\\generated=images-0167.png', 'samples_round_3\\\\generated=images-0168.png', 'samples_round_3\\\\generated=images-0169.png', 'samples_round_3\\\\generated=images-0170.png', 'samples_round_3\\\\generated=images-0171.png', 'samples_round_3\\\\generated=images-0172.png', 'samples_round_3\\\\generated=images-0173.png', 'samples_round_3\\\\generated=images-0174.png', 'samples_round_3\\\\generated=images-0175.png', 'samples_round_3\\\\generated=images-0176.png', 'samples_round_3\\\\generated=images-0177.png', 'samples_round_3\\\\generated=images-0178.png', 'samples_round_3\\\\generated=images-0179.png', 'samples_round_3\\\\generated=images-0180.png', 'samples_round_3\\\\generated=images-0181.png', 'samples_round_3\\\\generated=images-0182.png', 'samples_round_3\\\\generated=images-0183.png', 'samples_round_3\\\\generated=images-0184.png', 'samples_round_3\\\\generated=images-0185.png', 'samples_round_3\\\\generated=images-0186.png', 'samples_round_3\\\\generated=images-0187.png', 'samples_round_3\\\\generated=images-0188.png', 'samples_round_3\\\\generated=images-0189.png', 'samples_round_3\\\\generated=images-0190.png', 'samples_round_3\\\\generated=images-0191.png', 'samples_round_3\\\\generated=images-0192.png', 'samples_round_3\\\\generated=images-0193.png', 'samples_round_3\\\\generated=images-0194.png', 'samples_round_3\\\\generated=images-0195.png', 'samples_round_3\\\\generated=images-0196.png', 'samples_round_3\\\\generated=images-0197.png', 'samples_round_3\\\\generated=images-0198.png', 'samples_round_3\\\\generated=images-0199.png', 'samples_round_3\\\\generated=images-0200.png', 'samples_round_3\\\\generated=images-0201.png', 'samples_round_3\\\\generated=images-0202.png', 'samples_round_3\\\\generated=images-0203.png', 'samples_round_3\\\\generated=images-0204.png', 'samples_round_3\\\\generated=images-0205.png', 'samples_round_3\\\\generated=images-0206.png', 'samples_round_3\\\\generated=images-0207.png', 'samples_round_3\\\\generated=images-0208.png', 'samples_round_3\\\\generated=images-0209.png', 'samples_round_3\\\\generated=images-0210.png', 'samples_round_3\\\\generated=images-0211.png', 'samples_round_3\\\\generated=images-0212.png', 'samples_round_3\\\\generated=images-0213.png', 'samples_round_3\\\\generated=images-0214.png', 'samples_round_3\\\\generated=images-0215.png', 'samples_round_3\\\\generated=images-0216.png', 'samples_round_3\\\\generated=images-0217.png', 'samples_round_3\\\\generated=images-0218.png', 'samples_round_3\\\\generated=images-0219.png', 'samples_round_3\\\\generated=images-0220.png', 'samples_round_3\\\\generated=images-0221.png', 'samples_round_3\\\\generated=images-0222.png', 'samples_round_3\\\\generated=images-0223.png', 'samples_round_3\\\\generated=images-0224.png', 'samples_round_3\\\\generated=images-0225.png', 'samples_round_3\\\\generated=images-0226.png', 'samples_round_3\\\\generated=images-0227.png', 'samples_round_3\\\\generated=images-0228.png', 'samples_round_3\\\\generated=images-0229.png', 'samples_round_3\\\\generated=images-0230.png', 'samples_round_3\\\\generated=images-0231.png', 'samples_round_3\\\\generated=images-0232.png', 'samples_round_3\\\\generated=images-0233.png', 'samples_round_3\\\\generated=images-0234.png', 'samples_round_3\\\\generated=images-0235.png', 'samples_round_3\\\\generated=images-0236.png', 'samples_round_3\\\\generated=images-0237.png', 'samples_round_3\\\\generated=images-0238.png', 'samples_round_3\\\\generated=images-0239.png', 'samples_round_3\\\\generated=images-0240.png', 'samples_round_3\\\\generated=images-0241.png', 'samples_round_3\\\\generated=images-0242.png', 'samples_round_3\\\\generated=images-0243.png', 'samples_round_3\\\\generated=images-0244.png', 'samples_round_3\\\\generated=images-0245.png', 'samples_round_3\\\\generated=images-0246.png', 'samples_round_3\\\\generated=images-0247.png', 'samples_round_3\\\\generated=images-0248.png', 'samples_round_3\\\\generated=images-0249.png', 'samples_round_3\\\\generated=images-0250.png']\n"
     ]
    },
    {
     "name": "stdout",
     "output_type": "stream",
     "text": [
      "DONE!\n"
     ]
    }
   ],
   "source": [
    "import cv2\n",
    "import os\n",
    "\n",
    "# Define the video filename and the directory containing the sample images\n",
    "vid_fname = 'gans3_training.mp4'\n",
    "sample_images_location = \"samples_round_3\"\n",
    "\n",
    "print(\"Starting conversion of images to video.\")\n",
    "\n",
    "# Get a sorted list of image files that contain 'generated' in their names\n",
    "files = [os.path.join(sample_images_location, f) for f in os.listdir(sample_images_location) if 'generated' in f]\n",
    "files.sort()\n",
    "\n",
    "print(f\"Found {len(files)} files to process.\")\n",
    "#print(files)\n",
    "\n",
    "# Initialize the video writer\n",
    "fourcc = cv2.VideoWriter_fourcc(*'XVID')\n",
    "frame_size = (640, 480)  # Ensure this matches the actual size of your images\n",
    "out = cv2.VideoWriter(vid_fname, fourcc, 10, frame_size)\n",
    "\n",
    "# Write each image to the video file\n",
    "for fname in files:\n",
    "    img = cv2.imread(fname)\n",
    "    if img is not None:\n",
    "        if img.shape[1] != frame_size[0] or img.shape[0] != frame_size[1]:\n",
    "            img = cv2.resize(img, frame_size)\n",
    "        out.write(img)\n",
    "    else:\n",
    "        print(f\"Error reading file {fname}\")\n",
    "\n",
    "# Release the video writer\n",
    "out.release()\n",
    "\n",
    "print(\"DONE!\")\n",
    "\n"
   ]
  },
  {
   "cell_type": "code",
   "execution_count": null,
   "id": "67a13617",
   "metadata": {},
   "outputs": [],
   "source": []
  }
 ],
 "metadata": {
  "kernelspec": {
   "display_name": "Python 3 (ipykernel)",
   "language": "python",
   "name": "python3"
  },
  "language_info": {
   "codemirror_mode": {
    "name": "ipython",
    "version": 3
   },
   "file_extension": ".py",
   "mimetype": "text/x-python",
   "name": "python",
   "nbconvert_exporter": "python",
   "pygments_lexer": "ipython3",
   "version": "3.9.0"
  }
 },
 "nbformat": 4,
 "nbformat_minor": 5
}
